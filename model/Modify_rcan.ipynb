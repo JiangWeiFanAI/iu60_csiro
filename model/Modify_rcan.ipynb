{
 "cells": [
  {
   "cell_type": "code",
   "execution_count": null,
   "metadata": {},
   "outputs": [],
   "source": [
    "from model import common\n",
    "\n",
    "import torch.nn as nn\n"
   ]
  },
  {
   "cell_type": "code",
   "execution_count": null,
   "metadata": {},
   "outputs": [],
   "source": [
    "class Modify_RCAN(nn.Module):\n",
    "    def __init__(self,net,args,checkpoint):\n",
    "        super().__init__()\n",
    "        self.head=net.model.head\n",
    "#         self.tail=net.model.tail\n",
    "\n",
    "        modules_tail = [\n",
    "        common.Upsampler(conv, scale, n_feats, act=False),\n",
    "#             conv(n_feats, 1., kernel_size)\n",
    "        conv(n_feats, args.channels, kernel_size)\n",
    "        \n",
    "        ]\n",
    "\n",
    "        self.body=net.model.body\n",
    "        self.add_mean=net.model.add_mean\n",
    "        self.sub_mean=net.model.sub_mean\n",
    "#         self.body = nn.Sequential(\n",
    "#                 net.model.head,\n",
    "#                 net.model.body,\n",
    "#                 net.model.tail\n",
    "#         )\n",
    "\n",
    "    def forward(self, x):\n",
    "        print(x.shape)\n",
    "        x = self.sub_mean(x)\n",
    "        print(x.shape)\n",
    "        x = self.head(x)\n",
    "        res = self.body(x)\n",
    "        print(res.shape)\n",
    "        res += x\n",
    "#         x = self.tail(res)\n",
    "        print(x.shape)\n",
    "        x = self.add_mean(x)\n",
    "        return x"
   ]
  }
 ],
 "metadata": {
  "kernelspec": {
   "display_name": "Python 3",
   "language": "python",
   "name": "python3"
  },
  "language_info": {
   "codemirror_mode": {
    "name": "ipython",
    "version": 3
   },
   "file_extension": ".py",
   "mimetype": "text/x-python",
   "name": "python",
   "nbconvert_exporter": "python",
   "pygments_lexer": "ipython3",
   "version": "3.7.6"
  }
 },
 "nbformat": 4,
 "nbformat_minor": 4
}
