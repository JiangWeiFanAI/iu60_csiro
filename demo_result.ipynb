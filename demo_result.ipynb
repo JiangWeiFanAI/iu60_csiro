{
 "cells": [
  {
   "cell_type": "code",
   "execution_count": null,
   "metadata": {},
   "outputs": [],
   "source": [
    "from netCDF4 import Dataset as netDataset\n",
    "import os\n",
    "import xarray as xr\n",
    "from datetime import timedelta, date, datetime\n",
    "from tqdm import tqdm\n",
    "import time\n",
    "import numpy as np\n",
    "import data_processing_tool as dpt\n",
    "\n",
    "\n",
    "file_ACCESS_dir=\"../data/\"\n",
    "file_BARRA_dir=\"../data/barra_aus/\"\n",
    "# file_ACCESS_dir=\"H:/climate/access-s1/\"\n",
    "# file_BARRA_dir=\"D:/dataset/accum_prcp/\"\n",
    "# file_BARRA_dir_an=\"F:/climate/BARRA/\"\n",
    "# file_BARRA_dir=\"/g/data/ma05\"\n",
    "ensemble=['e01','e02']\n",
    "\n",
    "# ensemble=['e01','e02','e03','e04','e05','e06','e07','e08','e09','e10','e11']\n",
    "\n",
    "lat_name = \"lat\"\n",
    "lon_name = \"lon\"\n",
    "var_name=\"pr\"\n",
    "leading_time=217\n",
    "leading_time_we_use=31\n",
    "\n",
    "domain=[111.85, 155.875, -44.35,  -9.975] #awap\n",
    "domain=[112.9, 154.00, -43.7425, -9.0] #DEM\n",
    "\n",
    "domain=[112.9, 154.25, -43.7425, -9.0]# adapted DEM\n",
    "\n",
    "# '''\n",
    "# demo_date=date(1990,1,9)\n",
    "# idx=7\n",
    "# 漂移严重\n",
    "\n",
    "# '''"
   ]
  },
  {
   "cell_type": "code",
   "execution_count": null,
   "metadata": {},
   "outputs": [],
   "source": [
    "#demo input precipitation data(pr)\n",
    "demo_date=date(1990,1,25)\n",
    "idx=0\n",
    "ensamble_demo=\"e01\"\n",
    "# filename=file_ACCESS_dir+'pr/daily/'+ensamble_demo+\"/da_pr_\"+demo_date.strftime(\"%Y%m%d\")+\"_\"+ensamble_demo+\".nc\"\n",
    "# filename=\"/da_pr_\"+demo_date.strftime(\"%Y%m%d\")+\"_\"+ensamble_demo+\".nc\"\n",
    "filename=\"./\"\n",
    "\n",
    "\n",
    "\n",
    "title=\"input precipitation data \\n date: \"+(demo_date+timedelta(idx)).strftime(\"%Y%m%d\")\n",
    "prec_in=dpt.read_access_data(filename,idx=idx)*86400\n",
    "\n",
    "dpt.draw_aus_old(prec_in,title=title,domain=domain)\n",
    "print(prec_in.shape[0],prec_in.shape[1])"
   ]
  }
 ],
 "metadata": {
  "kernelspec": {
   "display_name": "Python 3",
   "language": "python",
   "name": "python3"
  },
  "language_info": {
   "codemirror_mode": {
    "name": "ipython",
    "version": 3
   },
   "file_extension": ".py",
   "mimetype": "text/x-python",
   "name": "python",
   "nbconvert_exporter": "python",
   "pygments_lexer": "ipython3",
   "version": "3.7.6"
  }
 },
 "nbformat": 4,
 "nbformat_minor": 4
}
